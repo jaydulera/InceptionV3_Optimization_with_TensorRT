{
  "nbformat": 4,
  "nbformat_minor": 0,
  "metadata": {
    "colab": {
      "name": "InceptionV3_Optimization.ipynb",
      "provenance": []
    },
    "kernelspec": {
      "name": "python3",
      "display_name": "Python 3"
    },
    "language_info": {
      "name": "python"
    },
    "accelerator": "GPU"
  },
  "cells": [
    {
      "cell_type": "code",
      "metadata": {
        "colab": {
          "base_uri": "https://localhost:8080/"
        },
        "id": "qe6kRQUlP1jH",
        "outputId": "1c0a68c8-e069-45fa-ca8a-5c7865157319"
      },
      "source": [
        "!nvidia-smi"
      ],
      "execution_count": 1,
      "outputs": [
        {
          "output_type": "stream",
          "text": [
            "Tue Mar 30 18:19:40 2021       \n",
            "+-----------------------------------------------------------------------------+\n",
            "| NVIDIA-SMI 460.67       Driver Version: 460.32.03    CUDA Version: 11.2     |\n",
            "|-------------------------------+----------------------+----------------------+\n",
            "| GPU  Name        Persistence-M| Bus-Id        Disp.A | Volatile Uncorr. ECC |\n",
            "| Fan  Temp  Perf  Pwr:Usage/Cap|         Memory-Usage | GPU-Util  Compute M. |\n",
            "|                               |                      |               MIG M. |\n",
            "|===============================+======================+======================|\n",
            "|   0  Tesla P100-PCIE...  Off  | 00000000:00:04.0 Off |                    0 |\n",
            "| N/A   40C    P0    27W / 250W |      0MiB / 16280MiB |      0%      Default |\n",
            "|                               |                      |                  N/A |\n",
            "+-------------------------------+----------------------+----------------------+\n",
            "                                                                               \n",
            "+-----------------------------------------------------------------------------+\n",
            "| Processes:                                                                  |\n",
            "|  GPU   GI   CI        PID   Type   Process name                  GPU Memory |\n",
            "|        ID   ID                                                   Usage      |\n",
            "|=============================================================================|\n",
            "|  No running processes found                                                 |\n",
            "+-----------------------------------------------------------------------------+\n"
          ],
          "name": "stdout"
        }
      ]
    },
    {
      "cell_type": "code",
      "metadata": {
        "id": "N_sn8Gq7P7uG"
      },
      "source": [
        "!dpkg -l | grep nvinfer"
      ],
      "execution_count": 2,
      "outputs": []
    },
    {
      "cell_type": "code",
      "metadata": {
        "id": "gFl8R8VpQep7",
        "colab": {
          "base_uri": "https://localhost:8080/"
        },
        "outputId": "7f3bf1f0-bc7c-4459-c5f1-7804da29f3f7"
      },
      "source": [
        "%%bash\n",
        "wget -q https://developer.download.nvidia.com/compute/machine-learning/repos/ubuntu1804/x86_64/nvidia-machine-learning-repo-ubuntu1804_1.0.0-1_amd64.deb\n",
        "\n",
        "dpkg -i nvidia-machine-learning-repo-*.deb\n",
        "apt-get -qq update\n",
        "\n",
        "sudo apt-get -qq install libnvinfer5 \n",
        "\n",
        "pip install -q tensorflow-gpu==2.0.0"
      ],
      "execution_count": 3,
      "outputs": [
        {
          "output_type": "stream",
          "text": [
            "Selecting previously unselected package nvidia-machine-learning-repo-ubuntu1804.\n",
            "(Reading database ... 160980 files and directories currently installed.)\n",
            "Preparing to unpack nvidia-machine-learning-repo-ubuntu1804_1.0.0-1_amd64.deb ...\n",
            "Unpacking nvidia-machine-learning-repo-ubuntu1804 (1.0.0-1) ...\n",
            "Setting up nvidia-machine-learning-repo-ubuntu1804 (1.0.0-1) ...\n",
            "Selecting previously unselected package libnvinfer5.\r\n",
            "(Reading database ... \r(Reading database ... 5%\r(Reading database ... 10%\r(Reading database ... 15%\r(Reading database ... 20%\r(Reading database ... 25%\r(Reading database ... 30%\r(Reading database ... 35%\r(Reading database ... 40%\r(Reading database ... 45%\r(Reading database ... 50%\r(Reading database ... 55%\r(Reading database ... 60%\r(Reading database ... 65%\r(Reading database ... 70%\r(Reading database ... 75%\r(Reading database ... 80%\r(Reading database ... 85%\r(Reading database ... 90%\r(Reading database ... 95%\r(Reading database ... 100%\r(Reading database ... 160983 files and directories currently installed.)\r\n",
            "Preparing to unpack .../libnvinfer5_5.1.5-1+cuda10.1_amd64.deb ...\r\n",
            "Unpacking libnvinfer5 (5.1.5-1+cuda10.1) ...\r\n",
            "Setting up libnvinfer5 (5.1.5-1+cuda10.1) ...\r\n",
            "Processing triggers for libc-bin (2.27-3ubuntu1.2) ...\r\n",
            "/sbin/ldconfig.real: /usr/local/lib/python3.7/dist-packages/ideep4py/lib/libmkldnn.so.0 is not a symbolic link\r\n",
            "\r\n"
          ],
          "name": "stdout"
        },
        {
          "output_type": "stream",
          "text": [
            "W: Target Packages (Packages) is configured multiple times in /etc/apt/sources.list.d/nvidia-machine-learning.list:1 and /etc/apt/sources.list.d/nvidia-ml.list:1\n",
            "W: Target Packages (Packages) is configured multiple times in /etc/apt/sources.list.d/nvidia-machine-learning.list:1 and /etc/apt/sources.list.d/nvidia-ml.list:1\n",
            "debconf: unable to initialize frontend: Dialog\n",
            "debconf: (No usable dialog-like program is installed, so the dialog based frontend cannot be used. at /usr/share/perl5/Debconf/FrontEnd/Dialog.pm line 76, <> line 1.)\n",
            "debconf: falling back to frontend: Readline\n",
            "debconf: unable to initialize frontend: Readline\n",
            "debconf: (This frontend requires a controlling tty.)\n",
            "debconf: falling back to frontend: Teletype\n",
            "dpkg-preconfigure: unable to re-open stdin: \n",
            "W: Target Packages (Packages) is configured multiple times in /etc/apt/sources.list.d/nvidia-machine-learning.list:1 and /etc/apt/sources.list.d/nvidia-ml.list:1\n",
            "ERROR: tensorflow 2.4.1 has requirement gast==0.3.3, but you'll have gast 0.2.2 which is incompatible.\n",
            "ERROR: tensorflow 2.4.1 has requirement tensorboard~=2.4, but you'll have tensorboard 2.0.2 which is incompatible.\n",
            "ERROR: tensorflow 2.4.1 has requirement tensorflow-estimator<2.5.0,>=2.4.0, but you'll have tensorflow-estimator 2.0.1 which is incompatible.\n",
            "ERROR: tensorflow-probability 0.12.1 has requirement gast>=0.3.2, but you'll have gast 0.2.2 which is incompatible.\n"
          ],
          "name": "stderr"
        }
      ]
    },
    {
      "cell_type": "code",
      "metadata": {
        "id": "_7qhu_j6QyRi"
      },
      "source": [
        "from __future__ import absolute_import, division, print_function, unicode_literals\n",
        "import os\n",
        "import time\n",
        "\n",
        "import numpy as np\n",
        "import matplotlib.pyplot as plt\n",
        "\n",
        "import tensorflow as tf\n",
        "from tensorflow import keras\n",
        "from tensorflow.python.compiler.tensorrt import trt_convert as trt\n",
        "from tensorflow.python.saved_model import tag_constants\n",
        "from tensorflow.keras.preprocessing import image\n",
        "from tensorflow.keras.applications.inception_v3 import InceptionV3\n",
        "from tensorflow.keras.applications.inception_v3 import preprocess_input, decode_predictions"
      ],
      "execution_count": 1,
      "outputs": []
    },
    {
      "cell_type": "code",
      "metadata": {
        "id": "Lptp6vd6Q6Ui"
      },
      "source": [
        "!mkdir ./data\n",
        "!wget  -qO ./data/img0.JPG \"https://upload.wikimedia.org/wikipedia/commons/thumb/9/93/Golden_Retriever_Carlos_%2810581910556%29.jpg/640px-Golden_Retriever_Carlos_%2810581910556%29.jpg\"\n",
        "!wget  -qO ./data/img1.JPG \"https://upload.wikimedia.org/wikipedia/commons/thumb/6/62/Red-shouldered_Hawk_%28Buteo_lineatus%29_-_Blue_Cypress_Lake%2C_Florida.jpg/407px-Red-shouldered_Hawk_%28Buteo_lineatus%29_-_Blue_Cypress_Lake%2C_Florida.jpg\"\n",
        "!wget  -qO ./data/img2.JPG \"https://upload.wikimedia.org/wikipedia/commons/thumb/2/28/Ostrich_male_RWD.jpg/636px-Ostrich_male_RWD.jpg\"\n",
        "!wget  -qO ./data/img3.JPG \"https://upload.wikimedia.org/wikipedia/commons/thumb/e/ed/Working_pay_phone%2C_Jensen_Beach%2C_Florida%2C_September_4%2C_2012_001.JPG/360px-Working_pay_phone%2C_Jensen_Beach%2C_Florida%2C_September_4%2C_2012_001.JPG\""
      ],
      "execution_count": 5,
      "outputs": []
    },
    {
      "cell_type": "code",
      "metadata": {
        "colab": {
          "base_uri": "https://localhost:8080/"
        },
        "id": "7NIR9XVARDHw",
        "outputId": "c20d5816-db53-40a3-f552-06286831c368"
      },
      "source": [
        "model = InceptionV3(weights = 'imagenet')"
      ],
      "execution_count": 6,
      "outputs": [
        {
          "output_type": "stream",
          "text": [
            "Downloading data from https://github.com/fchollet/deep-learning-models/releases/download/v0.5/inception_v3_weights_tf_dim_ordering_tf_kernels.h5\n",
            "96116736/96112376 [==============================] - 1s 0us/step\n"
          ],
          "name": "stdout"
        }
      ]
    },
    {
      "cell_type": "code",
      "metadata": {
        "id": "DhD5BZHBRFR7"
      },
      "source": [
        "def show_predictions(model):\n",
        "  for i in range(4):\n",
        "    img_path = './data/img%d.JPG'%i\n",
        "    img = image.load_img(img_path, target_size=(299, 299))\n",
        "    x = image.img_to_array(img)\n",
        "    x = np.expand_dims(x, axis=0)\n",
        "    x = preprocess_input(x)\n",
        "\n",
        "    preds = model.predict(x)\n",
        "    print('{} - Predicted: {}'.format(img_path, decode_predictions(preds, top=3)[0]))\n",
        "\n",
        "    plt.subplot(2,2,i+1)\n",
        "    plt.imshow(img);\n",
        "    plt.axis('off');\n",
        "    plt.title(decode_predictions(preds, top=3)[0][0][1])"
      ],
      "execution_count": 2,
      "outputs": []
    },
    {
      "cell_type": "code",
      "metadata": {
        "id": "j3g0aAqtRQoB",
        "colab": {
          "base_uri": "https://localhost:8080/"
        },
        "outputId": "7ba381ea-605b-4fa3-8f10-b06e35044e96"
      },
      "source": [
        "tf.saved_model.save(model , 'inceptionv3_saved_model')"
      ],
      "execution_count": 8,
      "outputs": [
        {
          "output_type": "stream",
          "text": [
            "WARNING:tensorflow:From /usr/local/lib/python3.7/dist-packages/tensorflow_core/python/ops/resource_variable_ops.py:1781: calling BaseResourceVariable.__init__ (from tensorflow.python.ops.resource_variable_ops) with constraint is deprecated and will be removed in a future version.\n",
            "Instructions for updating:\n",
            "If using Keras pass *_constraint arguments to layers.\n",
            "INFO:tensorflow:Assets written to: inceptionv3_saved_model/assets\n"
          ],
          "name": "stdout"
        }
      ]
    },
    {
      "cell_type": "code",
      "metadata": {
        "id": "Xel9T67TRT9B"
      },
      "source": [
        "def batch_input(batch_size = 8):\n",
        "  batched_input = np.zeros((batch_size , 299 , 299 , 3), dtype = np.float32)\n",
        "\n",
        "  for i in range(batch_size):\n",
        "    img_path = './data/img%d.JPG' % (i % 4)\n",
        "    img = image.load_img(img_path , target_size = (299 , 299))\n",
        "    x = image.img_to_array(img)\n",
        "    x = np.expand_dims(x , axis = 0)\n",
        "    batched_input[i, :] = x\n",
        "\n",
        "    batched_input = tf.constant(batched_input)\n",
        "    return batched_input"
      ],
      "execution_count": 3,
      "outputs": []
    },
    {
      "cell_type": "code",
      "metadata": {
        "id": "4NwkofKqRk6C"
      },
      "source": [
        "batched_input = batch_input(batch_size = 32)"
      ],
      "execution_count": 4,
      "outputs": []
    },
    {
      "cell_type": "code",
      "metadata": {
        "id": "RwtyzrgoRnti"
      },
      "source": [
        "def load_tf_saved_model(input_saved_model_dir):\n",
        "  print(f'Loading saved model {input_saved_model_dir}....')\n",
        "  saved_model_loaded = tf.saved_model.load(input_saved_model_dir , tags = [tag_constants.SERVING])\n",
        "  return saved_model_loaded"
      ],
      "execution_count": 5,
      "outputs": []
    },
    {
      "cell_type": "code",
      "metadata": {
        "colab": {
          "base_uri": "https://localhost:8080/"
        },
        "id": "s9oGoF8FRrwN",
        "outputId": "9980e4e5-61c2-4bbb-cb91-eb4718dbd804"
      },
      "source": [
        "saved_model = load_tf_saved_model('/content/inceptionv3_saved_model')"
      ],
      "execution_count": 12,
      "outputs": [
        {
          "output_type": "stream",
          "text": [
            "Loading saved model /content/inceptionv3_saved_model....\n"
          ],
          "name": "stdout"
        }
      ]
    },
    {
      "cell_type": "code",
      "metadata": {
        "colab": {
          "base_uri": "https://localhost:8080/"
        },
        "id": "eg9f_5UwRujG",
        "outputId": "ad9daf66-eb66-481a-a0e5-d2103f347950"
      },
      "source": [
        "infer = saved_model.signatures['serving_default']\n",
        "print(infer.structured_outputs)"
      ],
      "execution_count": 13,
      "outputs": [
        {
          "output_type": "stream",
          "text": [
            "{'predictions': TensorSpec(shape=(None, 1000), dtype=tf.float32, name='predictions')}\n"
          ],
          "name": "stdout"
        }
      ]
    },
    {
      "cell_type": "code",
      "metadata": {
        "id": "68Z_49jERyOt"
      },
      "source": [
        "def predict_and_benchmark_throughput(batched_input, infer, N_warmup_run=50, N_run=1000):\n",
        "\n",
        "  elapsed_time = []\n",
        "  all_preds = []\n",
        "  batch_size = batched_input.shape[0]\n",
        "\n",
        "  for i in range(N_warmup_run):\n",
        "    labeling = infer(batched_input)\n",
        "    preds = labeling['predictions'].numpy()\n",
        "\n",
        "  for i in range(N_run):\n",
        "    start_time = time.time()\n",
        "\n",
        "    labeling = infer(batched_input)\n",
        "\n",
        "    preds = labeling['predictions'].numpy()\n",
        "\n",
        "    end_time = time.time()\n",
        "\n",
        "    elapsed_time = np.append(elapsed_time, end_time - start_time)\n",
        "    \n",
        "    all_preds.append(preds)\n",
        "\n",
        "    if i % 50 == 0:\n",
        "      print('Steps {}-{} average: {:4.1f}ms'.format(i, i+50, (elapsed_time[-50:].mean()) * 1000))\n",
        "\n",
        "  print('Throughput: {:.0f} images/s'.format(N_run * batch_size / elapsed_time.sum()))\n",
        "  return all_preds"
      ],
      "execution_count": 6,
      "outputs": []
    },
    {
      "cell_type": "code",
      "metadata": {
        "colab": {
          "base_uri": "https://localhost:8080/"
        },
        "id": "knKrAwEsSC7v",
        "outputId": "8da0ba55-2c32-4207-8433-6636f939576f"
      },
      "source": [
        "print('Throughput for baseline InceptionV3 model is:')\n",
        "all_predictions = predict_and_benchmark_throughput(batched_input , infer , N_warmup_run=50 , N_run = 1000)"
      ],
      "execution_count": 15,
      "outputs": [
        {
          "output_type": "stream",
          "text": [
            "Throughput for baseline InceptionV3 model is:\n",
            "Steps 0-50 average: 74.1ms\n",
            "Steps 50-100 average: 74.5ms\n",
            "Steps 100-150 average: 74.4ms\n",
            "Steps 150-200 average: 74.5ms\n",
            "Steps 200-250 average: 74.6ms\n",
            "Steps 250-300 average: 74.3ms\n",
            "Steps 300-350 average: 74.4ms\n",
            "Steps 350-400 average: 74.5ms\n",
            "Steps 400-450 average: 74.5ms\n",
            "Steps 450-500 average: 74.5ms\n",
            "Steps 500-550 average: 74.6ms\n",
            "Steps 550-600 average: 74.6ms\n",
            "Steps 600-650 average: 74.4ms\n",
            "Steps 650-700 average: 74.5ms\n",
            "Steps 700-750 average: 74.7ms\n",
            "Steps 750-800 average: 74.9ms\n",
            "Steps 800-850 average: 74.3ms\n",
            "Steps 850-900 average: 74.3ms\n",
            "Steps 900-950 average: 74.4ms\n",
            "Steps 950-1000 average: 74.4ms\n",
            "Throughput: 430 images/s\n"
          ],
          "name": "stdout"
        }
      ]
    },
    {
      "cell_type": "code",
      "metadata": {
        "id": "xUKDjQSMSNiZ"
      },
      "source": [
        "def show_predictions(model):\n",
        "\n",
        "  img_path = './data/img0.JPG'  \n",
        "  img = image.load_img(img_path, target_size=(299, 299))\n",
        "  x = image.img_to_array(img)\n",
        "  x = np.expand_dims(x, axis=0)\n",
        "  x = preprocess_input(x)\n",
        "  x = tf.constant(x)\n",
        "\n",
        "  labeling = model(x)\n",
        "  preds = labeling['predictions'].numpy()\n",
        "  \n",
        "  print('{} - Predicted: {}'.format(img_path, decode_predictions(preds, top=3)[0]))\n",
        "  plt.subplot(2,2,1)\n",
        "  plt.imshow(img);\n",
        "  plt.axis('off');\n",
        "  plt.title(decode_predictions(preds, top=3)[0][0][1])"
      ],
      "execution_count": 7,
      "outputs": []
    },
    {
      "cell_type": "code",
      "metadata": {
        "colab": {
          "base_uri": "https://localhost:8080/",
          "height": 219
        },
        "id": "9SHQQaUzS1B7",
        "outputId": "1b80b2a3-5968-4794-cf6d-8828be251e6a"
      },
      "source": [
        "show_predictions(infer)"
      ],
      "execution_count": 17,
      "outputs": [
        {
          "output_type": "stream",
          "text": [
            "Downloading data from https://storage.googleapis.com/download.tensorflow.org/data/imagenet_class_index.json\n",
            "40960/35363 [==================================] - 0s 0us/step\n",
            "./data/img0.JPG - Predicted: [('n02099601', 'golden_retriever', 0.6146083), ('n02099712', 'Labrador_retriever', 0.2392583), ('n02104029', 'kuvasz', 0.006721575)]\n"
          ],
          "name": "stdout"
        },
        {
          "output_type": "display_data",
          "data": {
            "image/png": "[encoded data removed]",
            "text/plain": [
              "<Figure size 432x288 with 1 Axes>"
            ]
          },
          "metadata": {
            "tags": [],
            "needs_background": "light"
          }
        }
      ]
    },
    {
      "cell_type": "code",
      "metadata": {
        "id": "QlMZ2WJlS9tm"
      },
      "source": [
        "def convert_to_trt_graph_and_save(precision_mode = 'float32' , \n",
        "                                  input_saved_model_dir = 'inceptionv3_saved_model' , \n",
        "                                  caliberation_data = batched_input):\n",
        "  if(precision_mode == 'float32'):\n",
        "    precision_mode = trt.TrtPrecisionMode.FP32\n",
        "    converted_save_suffix = '_TFTRT_FP32'\n",
        "\n",
        "  if(precision_mode == 'float16'):\n",
        "    precision_mode = trt.TrtPrecisionMode.FP16\n",
        "    converted_save_suffix = '_TFTRT_FP16'\n",
        "\n",
        "  if(precision_mode == 'int8'):\n",
        "    precision_mode = trt.TrtPrecisionMode.INT8\n",
        "    converted_save_suffix = '_TFTRT_INT8'\n",
        "\n",
        "  output_saved_model_dir = input_saved_model_dir + converted_save_suffix\n",
        "  conversion_params = trt.DEFAULT_TRT_CONVERSION_PARAMS._replace(\n",
        "      precision_mode = precision_mode , \n",
        "      max_workspace_size_bytes = 8000000000\n",
        "  )\n",
        "  converter = trt.TrtGraphConverterV2(\n",
        "      input_saved_model_dir = input_saved_model_dir,\n",
        "      conversion_params = conversion_params\n",
        "  )\n",
        "  print(f'Converting {input_saved_model_dir} to TF-TRT graph precision mode {precision_mode}....')\n",
        "\n",
        "  if precision_mode == trt.TrtPrecisionMode.INT8:\n",
        "    def caliberation_input_fn():\n",
        "      yield (caliberation_data , )\n",
        "    converter.convert(calibration_input_fn = caliberation_input_fn)\n",
        "  else:\n",
        "\n",
        "    converter.convert()\n",
        "  print(f'Saving converted model to {output_saved_model_dir}')\n",
        "  converter.save(output_saved_model_dir = output_saved_model_dir)\n",
        "  print('Complete')\n"
      ],
      "execution_count": 8,
      "outputs": []
    },
    {
      "cell_type": "code",
      "metadata": {
        "colab": {
          "base_uri": "https://localhost:8080/"
        },
        "id": "EZjgjdblT0vh",
        "outputId": "bac07b2f-436b-473f-84c8-113933d4c8bb"
      },
      "source": [
        "convert_to_trt_graph_and_save(precision_mode = 'float32' , input_saved_model_dir= 'inceptionv3_saved_model')"
      ],
      "execution_count": 19,
      "outputs": [
        {
          "output_type": "stream",
          "text": [
            "INFO:tensorflow:Linked TensorRT version: (5, 1, 5)\n",
            "INFO:tensorflow:Loaded TensorRT version: (5, 1, 5)\n",
            "INFO:tensorflow:Running against TensorRT version 5.1.5\n",
            "Converting inceptionv3_saved_model to TF-TRT graph precision mode FP32....\n",
            "Saving converted model to inceptionv3_saved_model_TFTRT_FP32\n",
            "INFO:tensorflow:Assets written to: inceptionv3_saved_model_TFTRT_FP32/assets\n",
            "Complete\n"
          ],
          "name": "stdout"
        }
      ]
    },
    {
      "cell_type": "code",
      "metadata": {
        "colab": {
          "base_uri": "https://localhost:8080/"
        },
        "id": "_sjcqdCZT4f1",
        "outputId": "41f441b9-c8f5-4ecd-e79e-d6f30d466fd3"
      },
      "source": [
        "saved_model_loaded = load_tf_saved_model('/content/inceptionv3_saved_model_TFTRT_FP32')  "
      ],
      "execution_count": 20,
      "outputs": [
        {
          "output_type": "stream",
          "text": [
            "Loading saved model /content/inceptionv3_saved_model_TFTRT_FP32....\n"
          ],
          "name": "stdout"
        }
      ]
    },
    {
      "cell_type": "code",
      "metadata": {
        "id": "s_mucfWaUCr4"
      },
      "source": [
        "infer = saved_model_loaded.signatures['serving_default']"
      ],
      "execution_count": 21,
      "outputs": []
    },
    {
      "cell_type": "code",
      "metadata": {
        "colab": {
          "base_uri": "https://localhost:8080/"
        },
        "id": "dwTU_aOeUIPU",
        "outputId": "39535ff7-06c2-49ff-8b26-59e3784dee0a"
      },
      "source": [
        "print('Throughput after converting model to TF-TRT graph precision mode Float32:')\n",
        "all_preds = predict_and_benchmark_throughput(batched_input , infer , N_warmup_run=50 , N_run=1000)"
      ],
      "execution_count": 22,
      "outputs": [
        {
          "output_type": "stream",
          "text": [
            "Throughput after converting model to TF-TRT graph precision mode Float32:\n",
            "Steps 0-50 average: 58.0ms\n",
            "Steps 50-100 average: 57.6ms\n",
            "Steps 100-150 average: 57.8ms\n",
            "Steps 150-200 average: 57.6ms\n",
            "Steps 200-250 average: 57.6ms\n",
            "Steps 250-300 average: 57.6ms\n",
            "Steps 300-350 average: 57.7ms\n",
            "Steps 350-400 average: 57.6ms\n",
            "Steps 400-450 average: 57.6ms\n",
            "Steps 450-500 average: 57.5ms\n",
            "Steps 500-550 average: 57.6ms\n",
            "Steps 550-600 average: 57.7ms\n",
            "Steps 600-650 average: 57.5ms\n",
            "Steps 650-700 average: 57.6ms\n",
            "Steps 700-750 average: 57.5ms\n",
            "Steps 750-800 average: 57.6ms\n",
            "Steps 800-850 average: 57.6ms\n",
            "Steps 850-900 average: 57.6ms\n",
            "Steps 900-950 average: 57.6ms\n",
            "Steps 950-1000 average: 57.6ms\n",
            "Throughput: 556 images/s\n"
          ],
          "name": "stdout"
        }
      ]
    },
    {
      "cell_type": "code",
      "metadata": {
        "colab": {
          "base_uri": "https://localhost:8080/",
          "height": 184
        },
        "id": "96lewUqqUYBV",
        "outputId": "16c4f3c1-fdec-432e-fe7d-33260c87366e"
      },
      "source": [
        "show_predictions(infer)"
      ],
      "execution_count": 23,
      "outputs": [
        {
          "output_type": "stream",
          "text": [
            "./data/img0.JPG - Predicted: [('n02099601', 'golden_retriever', 0.61460805), ('n02099712', 'Labrador_retriever', 0.2392582), ('n02104029', 'kuvasz', 0.006721559)]\n"
          ],
          "name": "stdout"
        },
        {
          "output_type": "display_data",
          "data": {
            "image/png": "[encoded data removed]",
            "text/plain": [
              "<Figure size 432x288 with 1 Axes>"
            ]
          },
          "metadata": {
            "tags": [],
            "needs_background": "light"
          }
        }
      ]
    },
    {
      "cell_type": "code",
      "metadata": {
        "colab": {
          "base_uri": "https://localhost:8080/"
        },
        "id": "HymBQUt_U8Bf",
        "outputId": "3d4e57f6-58c6-448a-d384-1c700dffab74"
      },
      "source": [
        "convert_to_trt_graph_and_save(precision_mode = 'float16',\n",
        "                              input_saved_model_dir = 'inceptionv3_saved_model')"
      ],
      "execution_count": 24,
      "outputs": [
        {
          "output_type": "stream",
          "text": [
            "INFO:tensorflow:Linked TensorRT version: (5, 1, 5)\n",
            "INFO:tensorflow:Loaded TensorRT version: (5, 1, 5)\n",
            "INFO:tensorflow:Running against TensorRT version 5.1.5\n",
            "Converting inceptionv3_saved_model to TF-TRT graph precision mode FP16....\n",
            "Saving converted model to inceptionv3_saved_model_TFTRT_FP16\n",
            "INFO:tensorflow:Assets written to: inceptionv3_saved_model_TFTRT_FP16/assets\n",
            "Complete\n"
          ],
          "name": "stdout"
        }
      ]
    },
    {
      "cell_type": "code",
      "metadata": {
        "colab": {
          "base_uri": "https://localhost:8080/"
        },
        "id": "BGOFH-NSVAWs",
        "outputId": "f9c47209-e9ee-4617-dffc-0a052d00dd9d"
      },
      "source": [
        "saved_model_loaded = load_tf_saved_model('inceptionv3_saved_model_TFTRT_FP16')\n",
        "infer = saved_model_loaded.signatures['serving_default']"
      ],
      "execution_count": 26,
      "outputs": [
        {
          "output_type": "stream",
          "text": [
            "Loading saved model inceptionv3_saved_model_TFTRT_FP16....\n"
          ],
          "name": "stdout"
        }
      ]
    },
    {
      "cell_type": "code",
      "metadata": {
        "colab": {
          "base_uri": "https://localhost:8080/"
        },
        "id": "kEl8X3HOVHtZ",
        "outputId": "fcc1d75e-4f56-460e-9127-faddba1c72b4"
      },
      "source": [
        "print('Throughput after converting model to TF-TRT graph precision mode Float16:')\n",
        "all_preds = predict_and_benchmark_throughput(batched_input , infer)"
      ],
      "execution_count": 27,
      "outputs": [
        {
          "output_type": "stream",
          "text": [
            "Throughput after converting model to TF-TRT graph precision mode Float16:\n",
            "Steps 0-50 average: 57.5ms\n",
            "Steps 50-100 average: 57.6ms\n",
            "Steps 100-150 average: 57.6ms\n",
            "Steps 150-200 average: 57.8ms\n",
            "Steps 200-250 average: 57.6ms\n",
            "Steps 250-300 average: 57.5ms\n",
            "Steps 300-350 average: 57.7ms\n",
            "Steps 350-400 average: 57.5ms\n",
            "Steps 400-450 average: 57.8ms\n",
            "Steps 450-500 average: 57.6ms\n",
            "Steps 500-550 average: 57.6ms\n",
            "Steps 550-600 average: 57.7ms\n",
            "Steps 600-650 average: 57.6ms\n",
            "Steps 650-700 average: 57.6ms\n",
            "Steps 700-750 average: 57.8ms\n",
            "Steps 750-800 average: 57.7ms\n",
            "Steps 800-850 average: 57.6ms\n",
            "Steps 850-900 average: 57.7ms\n",
            "Steps 900-950 average: 57.6ms\n",
            "Steps 950-1000 average: 57.7ms\n",
            "Throughput: 555 images/s\n"
          ],
          "name": "stdout"
        }
      ]
    },
    {
      "cell_type": "code",
      "metadata": {
        "colab": {
          "base_uri": "https://localhost:8080/"
        },
        "id": "nJUxv5U0VRW8",
        "outputId": "04b5aa55-f368-4466-e2d1-c4c69b4ba8d2"
      },
      "source": [
        "convert_to_trt_graph_and_save(precision_mode='int8' , input_saved_model_dir='inceptionv3_saved_model')"
      ],
      "execution_count": 9,
      "outputs": [
        {
          "output_type": "stream",
          "text": [
            "INFO:tensorflow:Linked TensorRT version: (5, 1, 5)\n",
            "INFO:tensorflow:Loaded TensorRT version: (5, 1, 5)\n",
            "INFO:tensorflow:Running against TensorRT version 5.1.5\n",
            "Converting inceptionv3_saved_model to TF-TRT graph precision mode INT8....\n",
            "Saving converted model to inceptionv3_saved_model_TFTRT_INT8\n",
            "WARNING:tensorflow:From /usr/local/lib/python3.7/dist-packages/tensorflow_core/python/ops/resource_variable_ops.py:1781: calling BaseResourceVariable.__init__ (from tensorflow.python.ops.resource_variable_ops) with constraint is deprecated and will be removed in a future version.\n",
            "Instructions for updating:\n",
            "If using Keras pass *_constraint arguments to layers.\n",
            "INFO:tensorflow:Assets written to: inceptionv3_saved_model_TFTRT_INT8/assets\n",
            "Complete\n"
          ],
          "name": "stdout"
        }
      ]
    },
    {
      "cell_type": "code",
      "metadata": {
        "colab": {
          "base_uri": "https://localhost:8080/"
        },
        "id": "w-i-iRzoVw9N",
        "outputId": "37054d81-3a4e-4ae7-ed76-d73c066b969b"
      },
      "source": [
        "saved_model_loaded = load_tf_saved_model('inceptionv3_saved_model_TFTRT_INT8')\n",
        "infer = saved_model_loaded.signatures['serving_default']"
      ],
      "execution_count": 10,
      "outputs": [
        {
          "output_type": "stream",
          "text": [
            "Loading saved model inceptionv3_saved_model_TFTRT_INT8....\n"
          ],
          "name": "stdout"
        }
      ]
    },
    {
      "cell_type": "code",
      "metadata": {
        "colab": {
          "base_uri": "https://localhost:8080/"
        },
        "id": "MP03ZyKlV4Ly",
        "outputId": "dfe4ba62-18f1-44f6-b387-9ae6171b73d6"
      },
      "source": [
        "print('Throughput after converting model to TF-TRT graph precision mode INT8:')\n",
        "all_preds = predict_and_benchmark_throughput(batched_input , infer)"
      ],
      "execution_count": 11,
      "outputs": [
        {
          "output_type": "stream",
          "text": [
            "Throughput after converting model to TF-TRT graph precision mode INT8:\n",
            "Steps 0-50 average: 35.5ms\n",
            "Steps 50-100 average: 35.6ms\n",
            "Steps 100-150 average: 35.6ms\n",
            "Steps 150-200 average: 35.6ms\n",
            "Steps 200-250 average: 35.6ms\n",
            "Steps 250-300 average: 35.6ms\n",
            "Steps 300-350 average: 35.6ms\n",
            "Steps 350-400 average: 35.5ms\n",
            "Steps 400-450 average: 35.5ms\n",
            "Steps 450-500 average: 35.7ms\n",
            "Steps 500-550 average: 35.5ms\n",
            "Steps 550-600 average: 35.6ms\n",
            "Steps 600-650 average: 35.6ms\n",
            "Steps 650-700 average: 35.6ms\n",
            "Steps 700-750 average: 35.8ms\n",
            "Steps 750-800 average: 35.6ms\n",
            "Steps 800-850 average: 35.5ms\n",
            "Steps 850-900 average: 35.6ms\n",
            "Steps 900-950 average: 35.5ms\n",
            "Steps 950-1000 average: 35.6ms\n",
            "Throughput: 899 images/s\n"
          ],
          "name": "stdout"
        }
      ]
    },
    {
      "cell_type": "code",
      "metadata": {
        "id": "4YJUDE6SWnue",
        "colab": {
          "base_uri": "https://localhost:8080/",
          "height": 184
        },
        "outputId": "58a80403-2293-4e65-e221-398bef82de33"
      },
      "source": [
        "show_predictions(infer)"
      ],
      "execution_count": 13,
      "outputs": [
        {
          "output_type": "stream",
          "text": [
            "./data/img0.JPG - Predicted: [('n02099601', 'golden_retriever', 0.61567456), ('n02099712', 'Labrador_retriever', 0.23709424), ('n02104029', 'kuvasz', 0.006797108)]\n"
          ],
          "name": "stdout"
        },
        {
          "output_type": "display_data",
          "data": {
            "image/png": "[encoded data removed]",
            "text/plain": [
              "<Figure size 432x288 with 1 Axes>"
            ]
          },
          "metadata": {
            "tags": [],
            "needs_background": "light"
          }
        }
      ]
    },
    {
      "cell_type": "code",
      "metadata": {
        "id": "N3SWRTQUbzUo"
      },
      "source": [
        ""
      ],
      "execution_count": null,
      "outputs": []
    }
  ]
}